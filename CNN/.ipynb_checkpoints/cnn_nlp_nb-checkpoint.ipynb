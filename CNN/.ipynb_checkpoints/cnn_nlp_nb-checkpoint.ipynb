{
 "cells": [
  {
   "cell_type": "code",
   "execution_count": 1,
   "metadata": {
    "_cell_guid": "b1076dfc-b9ad-4769-8c92-a6c4dae69d19",
    "_uuid": "8f2839f25d086af736a60e9eeb907d3b93b6e0e5"
   },
   "outputs": [
    {
     "name": "stdout",
     "output_type": "stream",
     "text": [
      "['test_tweets_anuFYb8.csv', 'train_E6oV3lV.csv']\n"
     ]
    }
   ],
   "source": [
    "# This Python 3 environment comes with many helpful analytics libraries installed\n",
    "# It is defined by the kaggle/python docker image: https://github.com/kaggle/docker-python\n",
    "# For example, here's several helpful packages to load in \n",
    "\n",
    "import numpy as np # linear algebra\n",
    "import pandas as pd # data processing, CSV file I/O (e.g. pd.read_csv)\n",
    "\n",
    "# Input data files are available in the \"../input/\" directory.\n",
    "# For example, running this (by clicking run or pressing Shift+Enter) will list the files in the input directory\n",
    "\n",
    "import os\n",
    "print(os.listdir(\"../input\"))\n",
    "\n",
    "# Any results you write to the current directory are saved as output.\n",
    "\n",
    "# import keras\n",
    "# import tensorflow\n",
    "\n",
    "# print(keras.__version__)\n",
    "# print(tensorflow.__version__)"
   ]
  },
  {
   "cell_type": "code",
   "execution_count": 2,
   "metadata": {},
   "outputs": [],
   "source": [
    "import numpy as np\n",
    "import pandas as pd"
   ]
  },
  {
   "cell_type": "code",
   "execution_count": 3,
   "metadata": {
    "_cell_guid": "79c7e3d0-c299-4dcb-8224-4455121ee9b0",
    "_uuid": "d629ff2d2480ee46fbb7e2d37f6b5fab8052498a"
   },
   "outputs": [
    {
     "name": "stdout",
     "output_type": "stream",
     "text": [
      "   id                        ...                                                                      tweet\n",
      "0   1                        ...                           @user when a father is dysfunctional and is s...\n",
      "1   2                        ...                          @user @user thanks for #lyft credit i can't us...\n",
      "2   3                        ...                                                        bihday your majesty\n",
      "3   4                        ...                          #model   i love u take with u all the time in ...\n",
      "4   5                        ...                                     factsguide: society now    #motivation\n",
      "\n",
      "[5 rows x 3 columns]\n"
     ]
    }
   ],
   "source": [
    "df = pd.read_csv('../input/train_E6oV3lV.csv')\n",
    "df['label'] = df['label'].map({0: 2, 1: 1})\n",
    "print(df.head())\n",
    "# print(df['label'].head())\n",
    "df = df.drop('id', axis=1)\n",
    "\n",
    "# print(df[:100])\n",
    "# zero = 0\n",
    "# one = 0\n",
    "# for i in df['label']:\n",
    "#     if(i==0):\n",
    "#         zero+=1\n",
    "#     else:\n",
    "#         one+=1\n",
    "    \n",
    "# print(zero,one)"
   ]
  },
  {
   "cell_type": "code",
   "execution_count": 4,
   "metadata": {},
   "outputs": [
    {
     "name": "stderr",
     "output_type": "stream",
     "text": [
      "Using TensorFlow backend.\n"
     ]
    }
   ],
   "source": [
    "from keras.preprocessing.text import Tokenizer\n",
    "from keras.preprocessing.sequence import pad_sequences\n",
    "from sklearn.model_selection import train_test_split\n",
    "import copy"
   ]
  },
  {
   "cell_type": "code",
   "execution_count": 5,
   "metadata": {},
   "outputs": [
    {
     "name": "stdout",
     "output_type": "stream",
     "text": [
      "25569\n",
      "6393\n",
      "       label                                              tweet\n",
      "11704      2   @user   #diwali !!! #besteduonline !!! contac...\n",
      "6885       2  @user i was at this trump rally last night. ma...\n",
      "744        2  i don't know where you're going but do you hav...\n",
      "13467      2  watch on #periscope: the reading of victims na...\n",
      "31250      2  9 months later.. i am back to my pre pregnancy...\n",
      "<class 'pandas.core.frame.DataFrame'>\n"
     ]
    }
   ],
   "source": [
    "\n",
    "train, test = train_test_split(df, test_size=0.2)\n",
    "print(len(train))\n",
    "print(len(test))\n",
    "print(train.head())\n",
    "\n",
    "print(type(train))"
   ]
  },
  {
   "cell_type": "code",
   "execution_count": 6,
   "metadata": {},
   "outputs": [],
   "source": [
    "train_df = copy.deepcopy(train)\n",
    "test_df = copy.deepcopy(test)\n",
    "\n",
    "# concatenate column 1 and column 2 as one text\n",
    "# print(train_df[1])\n",
    "\n",
    "# convert string to lower case\n",
    "train_texts = train_df['tweet'].values\n",
    "train_texts = [s.lower() for s in train_texts]\n",
    "\n",
    "test_texts = test_df['tweet'].values\n",
    "test_texts = [s.lower() for s in test_texts]\n",
    "\n",
    "# print(train_texts.head())\n",
    "# print(train_texts)\n"
   ]
  },
  {
   "cell_type": "code",
   "execution_count": 7,
   "metadata": {},
   "outputs": [],
   "source": [
    "\n",
    "# =======================Convert string to index================\n",
    "# Tokenizer\n",
    "tk = Tokenizer(num_words=None, char_level=True, oov_token='UNK')\n",
    "tk.fit_on_texts(train_texts)\n",
    "# If we already have a character list, then replace the tk.word_index\n",
    "# If not, just skip below part\n",
    "\n",
    "# -----------------------Skip part start--------------------------\n",
    "# construct a new vocabulary\n",
    "alphabet = \"abcdefghijklmnopqrstuvwxyz0123456789 ,;.!?:'\\\"/\\\\|_@#$%^&*~`+-=<>()[]{}\"\n",
    "char_dict = {}\n",
    "for i, char in enumerate(alphabet):\n",
    "    char_dict[char] = i + 1\n",
    "\n",
    "# Use char_dict to replace the tk.word_index\n",
    "tk.word_index = char_dict.copy()\n",
    "# Add 'UNK' to the vocabulary\n",
    "tk.word_index[tk.oov_token] = max(char_dict.values()) + 1\n",
    "# -----------------------Skip part end----------------------------\n",
    "\n",
    "# Convert string to index\n",
    "train_sequences = tk.texts_to_sequences(train_texts)\n",
    "test_texts = tk.texts_to_sequences(test_texts)\n",
    "\n",
    "# Padding\n",
    "train_data = pad_sequences(train_sequences, maxlen=1014, padding='post')\n",
    "test_data = pad_sequences(test_texts, maxlen=1014, padding='post')\n",
    "\n",
    "# Convert to numpy array\n",
    "train_data = np.array(train_data, dtype='float32')\n",
    "test_data = np.array(test_data, dtype='float32')\n",
    "\n",
    "# =======================Get classes================\n",
    "train_classes = train_df['label'].values\n",
    "train_class_list = [x - 1 for x in train_classes]\n",
    "\n",
    "test_classes = test_df['label'].values\n",
    "test_class_list = [x - 1 for x in test_classes]\n",
    "\n",
    "from keras.utils import to_categorical\n",
    "\n",
    "train_classes = to_categorical(train_class_list)\n",
    "test_classes = to_categorical(test_class_list)"
   ]
  },
  {
   "cell_type": "code",
   "execution_count": 8,
   "metadata": {},
   "outputs": [
    {
     "name": "stdout",
     "output_type": "stream",
     "text": [
      "6393\n",
      "{'a': 1, 'b': 2, 'c': 3, 'd': 4, 'e': 5, 'f': 6, 'g': 7, 'h': 8, 'i': 9, 'j': 10, 'k': 11, 'l': 12, 'm': 13, 'n': 14, 'o': 15, 'p': 16, 'q': 17, 'r': 18, 's': 19, 't': 20, 'u': 21, 'v': 22, 'w': 23, 'x': 24, 'y': 25, 'z': 26, '0': 27, '1': 28, '2': 29, '3': 30, '4': 31, '5': 32, '6': 33, '7': 34, '8': 35, '9': 36, ' ': 37, ',': 38, ';': 39, '.': 40, '!': 41, '?': 42, ':': 43, \"'\": 44, '\"': 45, '/': 46, '\\\\': 47, '|': 48, '_': 49, '@': 50, '#': 51, '$': 52, '%': 53, '^': 54, '&': 55, '*': 56, '~': 57, '`': 58, '+': 59, '-': 60, '=': 61, '<': 62, '>': 63, '(': 64, ')': 65, '[': 66, ']': 67, '{': 68, '}': 69, 'UNK': 70}\n"
     ]
    }
   ],
   "source": [
    "print(len(test_classes))\n",
    "print(tk.word_index)"
   ]
  },
  {
   "cell_type": "code",
   "execution_count": 9,
   "metadata": {},
   "outputs": [
    {
     "data": {
      "text/plain": [
       "70"
      ]
     },
     "execution_count": 9,
     "metadata": {},
     "output_type": "execute_result"
    }
   ],
   "source": [
    "\n",
    "\n",
    "vocab_size = len(tk.word_index)\n",
    "vocab_size\n",
    "\n"
   ]
  },
  {
   "cell_type": "code",
   "execution_count": 10,
   "metadata": {},
   "outputs": [],
   "source": [
    "embedding_weights = [] #(71, 70)\n",
    "embedding_weights.append(np.zeros(vocab_size)) # first row is pad\n",
    "\n",
    "for char, i in tk.word_index.items(): # from index 1 to 70\n",
    "    onehot = np.zeros(vocab_size)\n",
    "    onehot[i-1] = 1\n",
    "    embedding_weights.append(onehot)\n",
    "embedding_weights = np.array(embedding_weights)\n"
   ]
  },
  {
   "cell_type": "code",
   "execution_count": 11,
   "metadata": {},
   "outputs": [
    {
     "name": "stdout",
     "output_type": "stream",
     "text": [
      "(71, 70)\n"
     ]
    },
    {
     "data": {
      "text/plain": [
       "array([[0., 0., 0., ..., 0., 0., 0.],\n",
       "       [1., 0., 0., ..., 0., 0., 0.],\n",
       "       [0., 1., 0., ..., 0., 0., 0.],\n",
       "       ...,\n",
       "       [0., 0., 0., ..., 1., 0., 0.],\n",
       "       [0., 0., 0., ..., 0., 1., 0.],\n",
       "       [0., 0., 0., ..., 0., 0., 1.]])"
      ]
     },
     "execution_count": 11,
     "metadata": {},
     "output_type": "execute_result"
    }
   ],
   "source": [
    "print(embedding_weights.shape) # first row all 0 for PAD, 69 char, last row for UNK\n",
    "embedding_weights"
   ]
  },
  {
   "cell_type": "code",
   "execution_count": 12,
   "metadata": {},
   "outputs": [],
   "source": [
    "from keras.layers import Input, Embedding, Activation, Flatten, Dense\n",
    "from keras.layers import Conv1D, MaxPooling1D, Dropout\n",
    "from keras.models import Model"
   ]
  },
  {
   "cell_type": "code",
   "execution_count": 13,
   "metadata": {},
   "outputs": [],
   "source": [
    "# parameter \n",
    "input_size = 1014\n",
    "# vocab_size = 69\n",
    "embedding_size = 70\n",
    "conv_layers = [[256, 7, 3], \n",
    "               [256, 7, 3], \n",
    "               [256, 3, -1], \n",
    "               [256, 3, -1], \n",
    "               [256, 3, -1], \n",
    "               [256, 3, 3]]\n",
    "\n",
    "fully_connected_layers = [1024, 1024]\n",
    "num_of_classes = 2\n",
    "dropout_p = 0.5\n",
    "optimizer = 'adam'\n",
    "loss = 'categorical_crossentropy'"
   ]
  },
  {
   "cell_type": "code",
   "execution_count": 14,
   "metadata": {},
   "outputs": [],
   "source": [
    "# Embedding layer Initialization\n",
    "embedding_layer = Embedding(vocab_size+1, \n",
    "                            embedding_size,\n",
    "                            input_length=input_size,\n",
    "                            weights=[embedding_weights])"
   ]
  },
  {
   "cell_type": "code",
   "execution_count": 15,
   "metadata": {},
   "outputs": [
    {
     "name": "stdout",
     "output_type": "stream",
     "text": [
      "WARNING:tensorflow:From /opt/conda/lib/python3.6/site-packages/tensorflow/python/framework/op_def_library.py:263: colocate_with (from tensorflow.python.framework.ops) is deprecated and will be removed in a future version.\n",
      "Instructions for updating:\n",
      "Colocations handled automatically by placer.\n",
      "WARNING:tensorflow:From /opt/conda/lib/python3.6/site-packages/keras/backend/tensorflow_backend.py:3445: calling dropout (from tensorflow.python.ops.nn_ops) with keep_prob is deprecated and will be removed in a future version.\n",
      "Instructions for updating:\n",
      "Please use `rate` instead of `keep_prob`. Rate should be set to `rate = 1 - keep_prob`.\n",
      "_________________________________________________________________\n",
      "Layer (type)                 Output Shape              Param #   \n",
      "=================================================================\n",
      "input (InputLayer)           (None, 1014)              0         \n",
      "_________________________________________________________________\n",
      "embedding_1 (Embedding)      (None, 1014, 70)          4970      \n",
      "_________________________________________________________________\n",
      "conv1d_1 (Conv1D)            (None, 1008, 256)         125696    \n",
      "_________________________________________________________________\n",
      "activation_1 (Activation)    (None, 1008, 256)         0         \n",
      "_________________________________________________________________\n",
      "max_pooling1d_1 (MaxPooling1 (None, 336, 256)          0         \n",
      "_________________________________________________________________\n",
      "conv1d_2 (Conv1D)            (None, 330, 256)          459008    \n",
      "_________________________________________________________________\n",
      "activation_2 (Activation)    (None, 330, 256)          0         \n",
      "_________________________________________________________________\n",
      "max_pooling1d_2 (MaxPooling1 (None, 110, 256)          0         \n",
      "_________________________________________________________________\n",
      "conv1d_3 (Conv1D)            (None, 108, 256)          196864    \n",
      "_________________________________________________________________\n",
      "activation_3 (Activation)    (None, 108, 256)          0         \n",
      "_________________________________________________________________\n",
      "conv1d_4 (Conv1D)            (None, 106, 256)          196864    \n",
      "_________________________________________________________________\n",
      "activation_4 (Activation)    (None, 106, 256)          0         \n",
      "_________________________________________________________________\n",
      "conv1d_5 (Conv1D)            (None, 104, 256)          196864    \n",
      "_________________________________________________________________\n",
      "activation_5 (Activation)    (None, 104, 256)          0         \n",
      "_________________________________________________________________\n",
      "conv1d_6 (Conv1D)            (None, 102, 256)          196864    \n",
      "_________________________________________________________________\n",
      "activation_6 (Activation)    (None, 102, 256)          0         \n",
      "_________________________________________________________________\n",
      "max_pooling1d_3 (MaxPooling1 (None, 34, 256)           0         \n",
      "_________________________________________________________________\n",
      "flatten_1 (Flatten)          (None, 8704)              0         \n",
      "_________________________________________________________________\n",
      "dense_1 (Dense)              (None, 1024)              8913920   \n",
      "_________________________________________________________________\n",
      "dropout_1 (Dropout)          (None, 1024)              0         \n",
      "_________________________________________________________________\n",
      "dense_2 (Dense)              (None, 1024)              1049600   \n",
      "_________________________________________________________________\n",
      "dropout_2 (Dropout)          (None, 1024)              0         \n",
      "_________________________________________________________________\n",
      "dense_3 (Dense)              (None, 2)                 2050      \n",
      "=================================================================\n",
      "Total params: 11,342,700\n",
      "Trainable params: 11,342,700\n",
      "Non-trainable params: 0\n",
      "_________________________________________________________________\n"
     ]
    }
   ],
   "source": [
    "# Model \n",
    "\n",
    "# Input\n",
    "inputs = Input(shape=(input_size,), name='input', dtype='int64')  # shape=(?, 1014)\n",
    "# Embedding \n",
    "x = embedding_layer(inputs)\n",
    "# Conv \n",
    "for filter_num, filter_size, pooling_size in conv_layers:\n",
    "    x = Conv1D(filter_num, filter_size)(x) \n",
    "    x = Activation('relu')(x)\n",
    "    if pooling_size != -1:\n",
    "        x = MaxPooling1D(pool_size=pooling_size)(x) # Final shape=(None, 34, 256)\n",
    "x = Flatten()(x) # (None, 8704)\n",
    "# Fully connected layers \n",
    "for dense_size in fully_connected_layers:\n",
    "    x = Dense(dense_size, activation='relu')(x) # dense_size == 1024\n",
    "    x = Dropout(dropout_p)(x)\n",
    "# Output Layer\n",
    "predictions = Dense(num_of_classes, activation='softmax')(x)\n",
    "# Build model\n",
    "model = Model(inputs=inputs, outputs=predictions)\n",
    "model.compile(optimizer=optimizer, loss=loss, metrics=['accuracy']) # Adam, categorical_crossentropy\n",
    "model.summary()"
   ]
  },
  {
   "cell_type": "code",
   "execution_count": 16,
   "metadata": {},
   "outputs": [
    {
     "name": "stdout",
     "output_type": "stream",
     "text": [
      "[37. 50. 21. ...  0.  0.  0.]\n",
      "[50. 21. 19. ...  0.  0.  0.]\n"
     ]
    }
   ],
   "source": [
    "print(train_data[0])\n",
    "print(train_data[1])\n",
    "\n",
    "# print(train_classes[1])\n",
    "\n",
    "# for i in range(100):\n",
    "#     print(train_classes[i])\n",
    "# for i in train_data[0]:\n",
    "#     print(i)\n",
    "    \n",
    "# print(train)\n",
    "# for i in train_data[0]:\n",
    "#     print(i)"
   ]
  },
  {
   "cell_type": "code",
   "execution_count": 17,
   "metadata": {},
   "outputs": [],
   "source": [
    "# 1000 training samples and 100 testing samples\n",
    "indices = np.arange(train_data.shape[0])\n",
    "np.random.shuffle(indices)\n",
    "\n",
    "x_train = train_data[indices]\n",
    "y_train = train_classes[indices]\n",
    "\n",
    "x_test = test_data\n",
    "y_test = test_classes"
   ]
  },
  {
   "cell_type": "code",
   "execution_count": 18,
   "metadata": {},
   "outputs": [
    {
     "name": "stdout",
     "output_type": "stream",
     "text": [
      "WARNING:tensorflow:From /opt/conda/lib/python3.6/site-packages/tensorflow/python/ops/math_ops.py:3066: to_int32 (from tensorflow.python.ops.math_ops) is deprecated and will be removed in a future version.\n",
      "Instructions for updating:\n",
      "Use tf.cast instead.\n",
      "Train on 25569 samples, validate on 6393 samples\n",
      "Epoch 1/10\n",
      " - 16s - loss: 0.2343 - acc: 0.9287 - val_loss: 0.1542 - val_acc: 0.9321\n",
      "Epoch 2/10\n",
      " - 13s - loss: 0.1346 - acc: 0.9514 - val_loss: 0.1125 - val_acc: 0.9582\n",
      "Epoch 3/10\n",
      " - 13s - loss: 0.0975 - acc: 0.9664 - val_loss: 0.1058 - val_acc: 0.9657\n",
      "Epoch 4/10\n",
      " - 13s - loss: 0.0690 - acc: 0.9767 - val_loss: 0.0992 - val_acc: 0.9645\n",
      "Epoch 5/10\n",
      " - 13s - loss: 0.0449 - acc: 0.9847 - val_loss: 0.1074 - val_acc: 0.9667\n",
      "Epoch 6/10\n",
      " - 13s - loss: 0.0343 - acc: 0.9895 - val_loss: 0.1266 - val_acc: 0.9692\n",
      "Epoch 7/10\n",
      " - 13s - loss: 0.0278 - acc: 0.9907 - val_loss: 0.1406 - val_acc: 0.9626\n",
      "Epoch 8/10\n",
      " - 13s - loss: 0.0242 - acc: 0.9926 - val_loss: 0.1558 - val_acc: 0.9582\n",
      "Epoch 9/10\n",
      " - 13s - loss: 0.0174 - acc: 0.9944 - val_loss: 0.1468 - val_acc: 0.9651\n",
      "Epoch 10/10\n",
      " - 13s - loss: 0.0200 - acc: 0.9932 - val_loss: 0.1749 - val_acc: 0.9596\n"
     ]
    },
    {
     "data": {
      "text/plain": [
       "<keras.callbacks.History at 0x7fa355a5de48>"
      ]
     },
     "execution_count": 18,
     "metadata": {},
     "output_type": "execute_result"
    }
   ],
   "source": [
    "\n",
    "\n",
    "# Training\n",
    "model.fit(x_train, y_train,\n",
    "          validation_data=(x_test, y_test),\n",
    "          batch_size=128,\n",
    "          epochs=10,\n",
    "          verbose=2)\n",
    "\n"
   ]
  },
  {
   "cell_type": "code",
   "execution_count": 19,
   "metadata": {},
   "outputs": [],
   "source": [
    "train_data_nb = copy.deepcopy(train_data)\n",
    "train_classes_nb = copy.deepcopy(train_classes)\n",
    "\n",
    "test_data_nb = copy.deepcopy(test_data)\n",
    "test_classes_nb = copy.deepcopy(test_classes)"
   ]
  },
  {
   "cell_type": "code",
   "execution_count": 20,
   "metadata": {},
   "outputs": [
    {
     "name": "stdout",
     "output_type": "stream",
     "text": [
      "{0.0, 1.0, 2.0, 3.0, 4.0, 5.0, 6.0, 7.0, 8.0, 9.0, 10.0, 11.0, 12.0, 13.0, 14.0, 15.0, 16.0, 17.0, 18.0, 19.0, 20.0, 21.0, 22.0, 23.0, 24.0, 25.0, 26.0, 27.0, 28.0, 29.0, 30.0, 31.0, 32.0, 33.0, 34.0, 35.0, 36.0, 37.0, 38.0, 39.0, 40.0, 41.0, 42.0, 43.0, 44.0, 45.0, 46.0, 47.0, 48.0, 49.0, 50.0, 51.0, 52.0, 53.0, 54.0, 55.0, 56.0, 57.0, 58.0, 59.0, 60.0, 61.0, 64.0, 65.0, 66.0, 67.0, 68.0, 69.0, 70.0}\n"
     ]
    }
   ],
   "source": [
    "# print(train_data_nb)\n",
    "set1 = set()\n",
    "\n",
    "\n",
    "for i in train_data_nb:\n",
    "    for j in i:\n",
    "        set1.add(j)\n",
    "        \n",
    "print((set1))"
   ]
  },
  {
   "cell_type": "code",
   "execution_count": 21,
   "metadata": {},
   "outputs": [
    {
     "name": "stdout",
     "output_type": "stream",
     "text": [
      "69\n",
      "0\n"
     ]
    }
   ],
   "source": [
    "print(len(set1))\n",
    "total_vocab = len(set1)\n",
    "\n",
    "set2 = set()\n",
    "train_classes_nb_l = len(train_classes_nb) * [0]\n",
    "test_classes_nb_l = len(test_classes_nb) * [0]\n",
    "\n",
    "for idx, i in enumerate(train_classes_nb):\n",
    "    if(i[0]==0.0 and i[1]==1.0):\n",
    "        train_classes_nb_l[idx]=copy.deepcopy(int(0))\n",
    "    elif(i[0]==1.0 and i[1]==0.0):\n",
    "        train_classes_nb_l[idx]=copy.deepcopy(int(1))\n",
    "    else:\n",
    "        print(i)\n",
    "\n",
    "for idx, i in enumerate(test_classes_nb):\n",
    "    if(i[0]==0.0 and i[1]==1.0):\n",
    "        test_classes_nb_l[idx]=copy.deepcopy(int(0))\n",
    "    elif(i[0]==1.0 and i[1]==0.0):\n",
    "        test_classes_nb_l[idx]=copy.deepcopy(int(1))\n",
    "    else:\n",
    "        print(i)\n",
    "        \n",
    "print(len(set2))"
   ]
  },
  {
   "cell_type": "code",
   "execution_count": 22,
   "metadata": {},
   "outputs": [],
   "source": [
    "dict1=dict()\n",
    "dict1[0]=dict()\n",
    "dict1[1]=dict()"
   ]
  },
  {
   "cell_type": "code",
   "execution_count": 23,
   "metadata": {},
   "outputs": [
    {
     "name": "stdout",
     "output_type": "stream",
     "text": [
      "0 {'freq': 0, 'prob_class': 0, 0.0: 0, 1.0: 0, 2.0: 0, 3.0: 0, 4.0: 0, 5.0: 0, 6.0: 0, 7.0: 0, 8.0: 0, 9.0: 0, 10.0: 0, 11.0: 0, 12.0: 0, 13.0: 0, 14.0: 0, 15.0: 0, 16.0: 0, 17.0: 0, 18.0: 0, 19.0: 0, 20.0: 0, 21.0: 0, 22.0: 0, 23.0: 0, 24.0: 0, 25.0: 0, 26.0: 0, 27.0: 0, 28.0: 0, 29.0: 0, 30.0: 0, 31.0: 0, 32.0: 0, 33.0: 0, 34.0: 0, 35.0: 0, 36.0: 0, 37.0: 0, 38.0: 0, 39.0: 0, 40.0: 0, 41.0: 0, 42.0: 0, 43.0: 0, 44.0: 0, 45.0: 0, 46.0: 0, 47.0: 0, 48.0: 0, 49.0: 0, 50.0: 0, 51.0: 0, 52.0: 0, 53.0: 0, 54.0: 0, 55.0: 0, 56.0: 0, 57.0: 0, 58.0: 0, 59.0: 0, 60.0: 0, 61.0: 0, 64.0: 0, 65.0: 0, 66.0: 0, 67.0: 0, 68.0: 0, 69.0: 0, 70.0: 0}\n",
      "1 {'freq': 0, 'prob_class': 0, 0.0: 0, 1.0: 0, 2.0: 0, 3.0: 0, 4.0: 0, 5.0: 0, 6.0: 0, 7.0: 0, 8.0: 0, 9.0: 0, 10.0: 0, 11.0: 0, 12.0: 0, 13.0: 0, 14.0: 0, 15.0: 0, 16.0: 0, 17.0: 0, 18.0: 0, 19.0: 0, 20.0: 0, 21.0: 0, 22.0: 0, 23.0: 0, 24.0: 0, 25.0: 0, 26.0: 0, 27.0: 0, 28.0: 0, 29.0: 0, 30.0: 0, 31.0: 0, 32.0: 0, 33.0: 0, 34.0: 0, 35.0: 0, 36.0: 0, 37.0: 0, 38.0: 0, 39.0: 0, 40.0: 0, 41.0: 0, 42.0: 0, 43.0: 0, 44.0: 0, 45.0: 0, 46.0: 0, 47.0: 0, 48.0: 0, 49.0: 0, 50.0: 0, 51.0: 0, 52.0: 0, 53.0: 0, 54.0: 0, 55.0: 0, 56.0: 0, 57.0: 0, 58.0: 0, 59.0: 0, 60.0: 0, 61.0: 0, 64.0: 0, 65.0: 0, 66.0: 0, 67.0: 0, 68.0: 0, 69.0: 0, 70.0: 0}\n"
     ]
    }
   ],
   "source": [
    "for key,val in dict1.items():\n",
    "    dict1[key][\"freq\"] = 0\n",
    "    dict1[key][\"prob_class\"] = 0\n",
    "    for j in set1:\n",
    "        dict1[key][j] = 0\n",
    "    print(key,dict1[key])\n",
    "    \n"
   ]
  },
  {
   "cell_type": "code",
   "execution_count": 24,
   "metadata": {},
   "outputs": [
    {
     "name": "stdout",
     "output_type": "stream",
     "text": [
      "{0: {'freq': 24093654, 'prob_class': 23761, 0.0: 22087777, 1.0: 115637, 2.0: 25252, 3.0: 33900, 4.0: 51837, 5.0: 163930, 6.0: 32893, 7.0: 36043, 8.0: 59369, 9.0: 100088, 10.0: 3825, 11.0: 17322, 12.0: 66879, 13.0: 42361, 14.0: 88241, 15.0: 113170, 16.0: 31965, 17.0: 1069, 18.0: 87011, 19.0: 97758, 20.0: 108461, 21.0: 56213, 22.0: 17425, 23.0: 29233, 24.0: 3352, 25.0: 42683, 26.0: 1899, 27.0: 2305, 28.0: 2600, 29.0: 2121, 30.0: 1081, 31.0: 1005, 32.0: 748, 33.0: 1250, 34.0: 489, 35.0: 427, 36.0: 578, 37.0: 358139, 38.0: 4544, 39.0: 1672, 40.0: 18668, 41.0: 11219, 42.0: 1803, 43.0: 2397, 44.0: 6222, 45.0: 1254, 46.0: 524, 47.0: 26, 48.0: 152, 49.0: 649, 50.0: 13087, 51.0: 57560, 52.0: 170, 53.0: 195, 54.0: 47, 55.0: 1529, 56.0: 190, 57.0: 110, 58.0: 8, 59.0: 148, 60.0: 2265, 61.0: 106, 64.0: 623, 65.0: 832, 66.0: 81, 67.0: 79, 68.0: 5, 69.0: 4, 70.0: 81149}, 1: {'freq': 1833312, 'prob_class': 1808, 0.0: 1669726, 1.0: 10363, 2.0: 2253, 3.0: 3816, 4.0: 3627, 5.0: 14133, 6.0: 2115, 7.0: 2422, 8.0: 4827, 9.0: 9398, 10.0: 412, 11.0: 1315, 12.0: 5558, 13.0: 4100, 14.0: 7303, 15.0: 8679, 16.0: 3078, 17.0: 94, 18.0: 8335, 19.0: 9657, 20.0: 9506, 21.0: 4938, 22.0: 1122, 23.0: 2366, 24.0: 266, 25.0: 2511, 26.0: 157, 27.0: 189, 28.0: 176, 29.0: 180, 30.0: 37, 31.0: 72, 32.0: 27, 33.0: 94, 34.0: 72, 35.0: 20, 36.0: 37, 37.0: 27256, 38.0: 538, 39.0: 274, 40.0: 1318, 41.0: 385, 42.0: 270, 43.0: 195, 44.0: 599, 45.0: 233, 46.0: 61, 47.0: 0, 48.0: 17, 49.0: 9, 50.0: 1503, 51.0: 3913, 52.0: 11, 53.0: 4, 54.0: 0, 55.0: 255, 56.0: 23, 57.0: 11, 58.0: 0, 59.0: 14, 60.0: 207, 61.0: 20, 64.0: 26, 65.0: 26, 66.0: 0, 67.0: 0, 68.0: 0, 69.0: 0, 70.0: 3163}}\n"
     ]
    }
   ],
   "source": [
    "for i in range(len(train_data_nb)):\n",
    "    dict1[train_classes_nb_l[i]]['freq'] += len(train_data_nb[i]) \n",
    "    dict1[train_classes_nb_l[i]]['prob_class'] +=1\n",
    "    for j in train_data_nb[i]:\n",
    "        dict1[train_classes_nb_l[i]][j] +=1\n",
    "#     print(len(train_data_nb[i]))\n",
    "#     print(train_classes_nb_l[i])\n",
    "\n",
    "print(dict1)"
   ]
  },
  {
   "cell_type": "code",
   "execution_count": 25,
   "metadata": {},
   "outputs": [
    {
     "name": "stdout",
     "output_type": "stream",
     "text": [
      "69\n",
      "25569\n"
     ]
    }
   ],
   "source": [
    "print(total_vocab)\n",
    "total_data_len = len(train_data_nb)\n",
    "print(total_data_len)\n",
    "\n",
    "\n",
    "# p(class) = dict[class][prob_class]/total_data_len\n",
    "# p(word/class) = (dict[class][word]+1)/(dict[class][freq]+total_vocab)\n",
    "\n",
    "\n"
   ]
  },
  {
   "cell_type": "code",
   "execution_count": 26,
   "metadata": {},
   "outputs": [],
   "source": [
    "def prob_fun(op_class,sentence):\n",
    "    result = dict1[op_class]['prob_class']/total_data_len\n",
    "    for i in sentence:\n",
    "        result *= ((dict1[op_class][i]+1)/(dict1[op_class]['freq']+total_vocab))\n",
    "    return result"
   ]
  },
  {
   "cell_type": "code",
   "execution_count": 27,
   "metadata": {},
   "outputs": [
    {
     "name": "stdout",
     "output_type": "stream",
     "text": [
      "Accuracy is  79.08650086031597\n"
     ]
    }
   ],
   "source": [
    "correct = 0\n",
    "for idx, sentence in enumerate(test_data_nb):\n",
    "    res0 = prob_fun(0,sentence)\n",
    "    res1 = prob_fun(1,sentence)    \n",
    "    if(res0>res1 and test_classes_nb_l[idx] ==0):\n",
    "        correct+=1\n",
    "    elif(res1>res0 and test_classes_nb_l[idx] ==1):\n",
    "        correct+=1\n",
    "        \n",
    "accuracy = (correct/len(test_data_nb))*100\n",
    "print(\"Accuracy is \",accuracy)"
   ]
  },
  {
   "cell_type": "code",
   "execution_count": 28,
   "metadata": {},
   "outputs": [],
   "source": []
  }
 ],
 "metadata": {
  "kernelspec": {
   "display_name": "Python 3",
   "language": "python",
   "name": "python3"
  },
  "language_info": {
   "codemirror_mode": {
    "name": "ipython",
    "version": 3
   },
   "file_extension": ".py",
   "mimetype": "text/x-python",
   "name": "python",
   "nbconvert_exporter": "python",
   "pygments_lexer": "ipython3",
   "version": "3.5.2"
  }
 },
 "nbformat": 4,
 "nbformat_minor": 1
}
